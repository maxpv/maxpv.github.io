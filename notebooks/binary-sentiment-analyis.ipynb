{
  "nbformat": 4,
  "nbformat_minor": 0,
  "metadata": {
    "colab": {
      "name": "Binary Sentiment Analyis.ipynb",
      "version": "0.3.2",
      "views": {},
      "default_view": {},
      "provenance": [
        {
          "file_id": "1OXykOkrYQ6vWEcRx29hno7K8bupp0GBf",
          "timestamp": 1524478373362
        }
      ],
      "collapsed_sections": []
    },
    "kernelspec": {
      "name": "python3",
      "display_name": "Python 3"
    },
    "accelerator": "GPU"
  },
  "cells": [
    {
      "metadata": {
        "id": "dt0K-lC_CCWC",
        "colab_type": "text"
      },
      "cell_type": "markdown",
      "source": [
        "# Preparation\n",
        "\n",
        "This [dataset](https://archive.ics.uci.edu/ml/datasets/Sentiment+Labelled+Sentences) contains labelled sentences scored either with a 1 for positive sentences and 0 for negatives. Sentences com from three different websites:\n",
        "\n",
        "- imdb.com\n",
        "- amazon.com\n",
        "- yelp.com\n",
        "\n",
        "Each of them combine ~500 positives and ~500 negatives sentences.\n",
        "> \"We attempted to select sentences that have a clearly positive or negative connotaton, the goal was for no neutral sentences to be selected.\"\n",
        "\n",
        "This dataset was created for the paper 'From Group to Individual Labels using Deep Features', Kotzias et. al,. KDD 2015. They are also the creators of this awesome dataset.\n"
      ]
    },
    {
      "metadata": {
        "id": "bp-ATGV-N7Nf",
        "colab_type": "code",
        "colab": {
          "autoexec": {
            "startup": false,
            "wait_interval": 0
          }
        }
      },
      "cell_type": "code",
      "source": [
        "import pandas as pd\n",
        "\n",
        "root_path = '/content/drive/notebooks/datasets/'\n",
        "dataset_path = 'sentiment-labelled-sentences/'\n",
        "directory = root_path+dataset_path\n",
        "\n",
        "amazon_path = 'amazon_cells_labelled.txt'\n",
        "imdb_path = 'imdb_labelled.txt'\n",
        "yelp_path= 'yelp_labelled.txt'\n",
        "\n",
        "columns=['sentence', 'score']\n",
        "amazon = pd.read_csv(directory+amazon_path, sep='\\t', names=columns, header=None)\n",
        "imdb = pd.read_csv(directory+imdb_path, sep='\\t', names=columns, header=None)\n",
        "yelp = pd.read_csv(directory+yelp_path, sep='\\t', names=columns, header=None)"
      ],
      "execution_count": 0,
      "outputs": []
    },
    {
      "metadata": {
        "id": "BUytUVSCqQqy",
        "colab_type": "text"
      },
      "cell_type": "markdown",
      "source": [
        "Let's merge the three datasets into one."
      ]
    },
    {
      "metadata": {
        "id": "ogsiWLDGmKQY",
        "colab_type": "code",
        "colab": {
          "autoexec": {
            "startup": false,
            "wait_interval": 0
          },
          "base_uri": "https://localhost:8080/",
          "height": 206
        },
        "outputId": "82cc27f7-4272-4d6e-aec1-84e5930be67c",
        "executionInfo": {
          "status": "ok",
          "timestamp": 1525458710934,
          "user_tz": -120,
          "elapsed": 2900,
          "user": {
            "displayName": "Maxence",
            "photoUrl": "//lh6.googleusercontent.com/-GLcBkiLSG94/AAAAAAAAAAI/AAAAAAAAAak/oCDxFrIwoqc/s50-c-k-no/photo.jpg",
            "userId": "118398049760002700521"
          }
        }
      },
      "cell_type": "code",
      "source": [
        "df = pd.concat([amazon, imdb, yelp])\n",
        "df.score.value_counts()\n",
        "df.head(5)"
      ],
      "execution_count": 0,
      "outputs": [
        {
          "output_type": "execute_result",
          "data": {
            "text/html": [
              "<div>\n",
              "<style scoped>\n",
              "    .dataframe tbody tr th:only-of-type {\n",
              "        vertical-align: middle;\n",
              "    }\n",
              "\n",
              "    .dataframe tbody tr th {\n",
              "        vertical-align: top;\n",
              "    }\n",
              "\n",
              "    .dataframe thead th {\n",
              "        text-align: right;\n",
              "    }\n",
              "</style>\n",
              "<table border=\"1\" class=\"dataframe\">\n",
              "  <thead>\n",
              "    <tr style=\"text-align: right;\">\n",
              "      <th></th>\n",
              "      <th>sentence</th>\n",
              "      <th>score</th>\n",
              "    </tr>\n",
              "  </thead>\n",
              "  <tbody>\n",
              "    <tr>\n",
              "      <th>0</th>\n",
              "      <td>So there is no way for me to plug it in here i...</td>\n",
              "      <td>0</td>\n",
              "    </tr>\n",
              "    <tr>\n",
              "      <th>1</th>\n",
              "      <td>Good case, Excellent value.</td>\n",
              "      <td>1</td>\n",
              "    </tr>\n",
              "    <tr>\n",
              "      <th>2</th>\n",
              "      <td>Great for the jawbone.</td>\n",
              "      <td>1</td>\n",
              "    </tr>\n",
              "    <tr>\n",
              "      <th>3</th>\n",
              "      <td>Tied to charger for conversations lasting more...</td>\n",
              "      <td>0</td>\n",
              "    </tr>\n",
              "    <tr>\n",
              "      <th>4</th>\n",
              "      <td>The mic is great.</td>\n",
              "      <td>1</td>\n",
              "    </tr>\n",
              "  </tbody>\n",
              "</table>\n",
              "</div>"
            ],
            "text/plain": [
              "                                            sentence  score\n",
              "0  So there is no way for me to plug it in here i...      0\n",
              "1                        Good case, Excellent value.      1\n",
              "2                             Great for the jawbone.      1\n",
              "3  Tied to charger for conversations lasting more...      0\n",
              "4                                  The mic is great.      1"
            ]
          },
          "metadata": {
            "tags": []
          },
          "execution_count": 58
        }
      ]
    },
    {
      "metadata": {
        "id": "11XTGdhjqp2u",
        "colab_type": "text"
      },
      "cell_type": "markdown",
      "source": [
        "## Sentences cleanup\n",
        "\n",
        "We can now pre-process our sentences.\n",
        "\n",
        "- Lower case\n",
        "- Clean out ponctuation\n",
        "- Remove common terms (stop words, we grabbed [this list](https://github.com/Alir3z4/stop-words/blob/0e438af98a88812ccc245cf31f93644709e70370/english.txt))\n",
        "- Space out exclamation points and question marks from their attached word (ex: hello? to hello ?)"
      ]
    },
    {
      "metadata": {
        "id": "9FDdZImeqVhM",
        "colab_type": "code",
        "colab": {
          "autoexec": {
            "startup": false,
            "wait_interval": 0
          }
        }
      },
      "cell_type": "code",
      "source": [
        "def prepare_text_column(df, punctuations=None, stop_words=None, replace_dict=None, copy=False):\n",
        "  def space_out_marks(clean_df):\n",
        "    # Changes 'is that all right?'\n",
        "    # In      'is that all right ?'\n",
        "    marks = ['?', '!', '\\.', ')', '(']\n",
        "    for m in marks:\n",
        "      df.replace(to_replace=r'(\\%s)+'%m, value=' {0}'.format(m), \n",
        "                         regex=True, inplace=True)\n",
        "  \n",
        "  def lower_case(df):\n",
        "    return df.str.lower()\n",
        "  \n",
        "  def remove_words(df, words_to_delete):\n",
        "    for w in words_to_delete:\n",
        "      df.replace(to_replace=r'\\b(%s)\\b'%w, value=\"\", \n",
        "                         regex=True, inplace=True)\n",
        "    return df\n",
        "    \n",
        "  def remove_punctuation(df, punctuation):\n",
        "    for p in punctuations:\n",
        "      df.replace(to_replace=r'(%s)'%p, value=\" \", \n",
        "                         regex=True, inplace=True)    \n",
        "    return df\n",
        "  \n",
        "  def replace_from_dict(df, replace_dict):\n",
        "    for l, replacement in replace_dict:\n",
        "      for w in l:\n",
        "        df.replace(to_replace=r'\\b(%s)\\b'%w, value=\"not\", \n",
        "                           regex=True, inplace=True)\n",
        "    return df\n",
        "      \n",
        "  clean_df = pd.Series()\n",
        "  if(copy):\n",
        "    clean_df = df.copy()\n",
        "  else:\n",
        "    clean_df = df\n",
        "  \n",
        "  clean_df = lower_case(clean_df)\n",
        "  space_out_marks(clean_df)\n",
        "  \n",
        "  if(punctuations is not None):\n",
        "    remove_punctuation(clean_df, punctuations)\n",
        "\n",
        "  if(replace_dict is not None):\n",
        "    replace_from_dict(clean_df, replace_dict)\n",
        "  \n",
        "  if(stop_words is not None):\n",
        "    remove_words(clean_df, words_to_delete=stop_words)\n",
        "  \n",
        "  clean_df.replace('\\s+', ' ', regex=True, inplace=True)\n",
        "  \n",
        "  return clean_df"
      ],
      "execution_count": 0,
      "outputs": []
    },
    {
      "metadata": {
        "id": "PwX_NiX1-pi4",
        "colab_type": "text"
      },
      "cell_type": "markdown",
      "source": [
        "Stopwords are words that doesn't give much information from [here](https://github.com/Alir3z4/stop-words/blob/0e438af98a88812ccc245cf31f93644709e70370/english.txt).\n",
        "\n",
        "To keep in mind: 'not', 'don't' 'didn't' ect... are considered as stopwords. But for sentiment analysis we might want to keep the information of 'not'. So we need to expands the contractions in english language ([list on SO](https://stackoverflow.com/questions/43018030/replace-appostrophe-short-words-in-python))."
      ]
    },
    {
      "metadata": {
        "id": "mSbNjnW3-vkY",
        "colab_type": "code",
        "colab": {
          "autoexec": {
            "startup": false,
            "wait_interval": 0
          },
          "base_uri": "https://localhost:8080/",
          "height": 36
        },
        "outputId": "80d5fb7c-66eb-48f0-d37f-fc27f59544e0",
        "executionInfo": {
          "status": "ok",
          "timestamp": 1525458721338,
          "user_tz": -120,
          "elapsed": 754,
          "user": {
            "displayName": "Maxence",
            "photoUrl": "//lh6.googleusercontent.com/-GLcBkiLSG94/AAAAAAAAAAI/AAAAAAAAAak/oCDxFrIwoqc/s50-c-k-no/photo.jpg",
            "userId": "118398049760002700521"
          }
        }
      },
      "cell_type": "code",
      "source": [
        "import numpy as np\n",
        "import random\n",
        "\n",
        "def get_stop_words(filepath):\n",
        "  english_stop = pd.read_csv(filepath, sep='\\t', names=columns, header=None)\n",
        "  return np.array(english_stop.values[:,0])\n",
        "\n",
        "english_stop = get_stop_words(root_path+'english-stop-words.txt')\n",
        "\n",
        "replace_to_not = [\"don t\", \"didn t\", \"won t\", \"cannot\", \n",
        "                 \"can t\", \"doesn t\", \"hasn t\", \"haven t\", \"hadn t\", \"isn t\", \n",
        "                  \"shouldn t\", \"mustn t\", \"wasn t\"\n",
        "                \"wouldn t\", \"aren t\", \"hadn t\", \"weren t\"]\n",
        "\n",
        "english_stop = [w for w in english_stop if w not in replace_to_not]\n",
        "\n",
        "english_stop = np.array(english_stop)\n",
        "english_stop = np.delete(english_stop, english_stop.tolist().index('not'))\n",
        "\n",
        "print_max_sw = 15\n",
        "s = '%s, '\n",
        "s = [s for se in range(print_max_sw)]\n",
        "print('Examples of stop words: '+''.join(s) % tuple([random.choice(english_stop) for i in range(print_max_sw)]))"
      ],
      "execution_count": 0,
      "outputs": [
        {
          "output_type": "stream",
          "text": [
            "Examples of stop words: its, ought, there's, other, themselves, some, on, for, who, i'm, themselves, he, ourselves, himself, over, \n"
          ],
          "name": "stdout"
        }
      ]
    },
    {
      "metadata": {
        "id": "JfSivpet9ara",
        "colab_type": "text"
      },
      "cell_type": "markdown",
      "source": [
        "We want to keep punctuations that are used to make smiley like `:(` and `:)`? Not used much in this dataset."
      ]
    },
    {
      "metadata": {
        "id": "FW_nGvsvritI",
        "colab_type": "code",
        "colab": {
          "autoexec": {
            "startup": false,
            "wait_interval": 0
          }
        }
      },
      "cell_type": "code",
      "source": [
        "punctuation= [',', '\\.', '\\'', '\\\"', '-', '_', '!', '\\(', '\\)', '$', ';']\n",
        "\n",
        "replace_dict = [(replace_to_not, ' not'), #change doesn't in does not\n",
        "                ([\"s\"], ' is'),\n",
        "                ([\"ve'\"], '  have'),\n",
        "               ([\"ll\"], 'will'),\n",
        "               ([\"m\"], \"am\"),\n",
        "               ([\"d\"], \"had\")]\n",
        "\n",
        "# We just lower case and remove punctuation\n",
        "df['sentence'] = prepare_text_column(df['sentence'],\n",
        "                                     punctuations=punctuation,)\n",
        "cleaned_df = df.copy()\n",
        "cleaned_df['sentence'] = prepare_text_column(df['sentence'], \n",
        "                         stop_words=english_stop,\n",
        "                         punctuations=punctuation,\n",
        "                         replace_dict=replace_dict)"
      ],
      "execution_count": 0,
      "outputs": []
    },
    {
      "metadata": {
        "id": "-uFDTmHqUTDo",
        "colab_type": "code",
        "colab": {
          "autoexec": {
            "startup": false,
            "wait_interval": 0
          },
          "base_uri": "https://localhost:8080/",
          "height": 206
        },
        "outputId": "105ba987-4150-4fb3-987d-7336e87fbd9f",
        "executionInfo": {
          "status": "ok",
          "timestamp": 1525458736730,
          "user_tz": -120,
          "elapsed": 2584,
          "user": {
            "displayName": "Maxence",
            "photoUrl": "//lh6.googleusercontent.com/-GLcBkiLSG94/AAAAAAAAAAI/AAAAAAAAAak/oCDxFrIwoqc/s50-c-k-no/photo.jpg",
            "userId": "118398049760002700521"
          }
        }
      },
      "cell_type": "code",
      "source": [
        "cleaned_df.head(5)"
      ],
      "execution_count": 0,
      "outputs": [
        {
          "output_type": "execute_result",
          "data": {
            "text/html": [
              "<div>\n",
              "<style scoped>\n",
              "    .dataframe tbody tr th:only-of-type {\n",
              "        vertical-align: middle;\n",
              "    }\n",
              "\n",
              "    .dataframe tbody tr th {\n",
              "        vertical-align: top;\n",
              "    }\n",
              "\n",
              "    .dataframe thead th {\n",
              "        text-align: right;\n",
              "    }\n",
              "</style>\n",
              "<table border=\"1\" class=\"dataframe\">\n",
              "  <thead>\n",
              "    <tr style=\"text-align: right;\">\n",
              "      <th></th>\n",
              "      <th>sentence</th>\n",
              "      <th>score</th>\n",
              "    </tr>\n",
              "  </thead>\n",
              "  <tbody>\n",
              "    <tr>\n",
              "      <th>0</th>\n",
              "      <td>way plug us unless go converter</td>\n",
              "      <td>0</td>\n",
              "    </tr>\n",
              "    <tr>\n",
              "      <th>1</th>\n",
              "      <td>good case excellent value</td>\n",
              "      <td>1</td>\n",
              "    </tr>\n",
              "    <tr>\n",
              "      <th>2</th>\n",
              "      <td>great jawbone</td>\n",
              "      <td>1</td>\n",
              "    </tr>\n",
              "    <tr>\n",
              "      <th>3</th>\n",
              "      <td>tied charger conversations lasting 45 minutes ...</td>\n",
              "      <td>0</td>\n",
              "    </tr>\n",
              "    <tr>\n",
              "      <th>4</th>\n",
              "      <td>mic great</td>\n",
              "      <td>1</td>\n",
              "    </tr>\n",
              "  </tbody>\n",
              "</table>\n",
              "</div>"
            ],
            "text/plain": [
              "                                            sentence  score\n",
              "0                   way plug us unless go converter       0\n",
              "1                         good case excellent value       1\n",
              "2                                     great jawbone       1\n",
              "3  tied charger conversations lasting 45 minutes ...      0\n",
              "4                                         mic great       1"
            ]
          },
          "metadata": {
            "tags": []
          },
          "execution_count": 69
        }
      ]
    },
    {
      "metadata": {
        "id": "XIioquYK_tog",
        "colab_type": "text"
      },
      "cell_type": "markdown",
      "source": [
        "# Vocabulary size and padding limit\n",
        "\n",
        "How many words are used less than X times. Words need to appear several times to be leaned by the model.\n",
        "\n",
        "Let's see the difference between the top-n words before and after processing punctuation, stop words and doing some replacements. We'll train the model on the two sets to see the impact."
      ]
    },
    {
      "metadata": {
        "id": "q_afNyUK5Cc4",
        "colab_type": "code",
        "colab": {
          "autoexec": {
            "startup": false,
            "wait_interval": 0
          },
          "base_uri": "https://localhost:8080/",
          "height": 606
        },
        "outputId": "a807b2d0-f527-4623-b386-97bde95074c7",
        "executionInfo": {
          "status": "ok",
          "timestamp": 1525458741896,
          "user_tz": -120,
          "elapsed": 2476,
          "user": {
            "displayName": "Maxence",
            "photoUrl": "//lh6.googleusercontent.com/-GLcBkiLSG94/AAAAAAAAAAI/AAAAAAAAAak/oCDxFrIwoqc/s50-c-k-no/photo.jpg",
            "userId": "118398049760002700521"
          }
        }
      },
      "cell_type": "code",
      "source": [
        "import matplotlib.pyplot as plt\n",
        "\n",
        "def plot_extremum_word_usage(df, n, most=True):\n",
        "  min_or_max = 'most'         if most else 'least'\n",
        "  to_display = slice(None, n) if most else slice(-n,None)\n",
        "  \n",
        "  top_n = pd.Series(' '.join(df).split()).value_counts()[to_display]\n",
        "  top_n.plot.barh(title='{0} {1} frequent words'.format(n, min_or_max), figsize=(12,10));\n",
        "  \n",
        "def compare_least_most_word_usages(left, right, n=15):\n",
        "  plt.figure(figsize=(15,15))\n",
        "  plt.subplot(221)\n",
        "  plot_extremum_word_usage(left, n)\n",
        "  plt.subplot(222)\n",
        "  plot_extremum_word_usage(right, n)\n",
        "  plt.subplot(223)\n",
        "  plot_extremum_word_usage(left, n, most=False)\n",
        "  plt.subplot(224)\n",
        "  plot_extremum_word_usage(right, n, most=False)\n",
        "\n",
        "\n",
        "compare_least_most_word_usages(left=df['sentence'], right=cleaned_df['sentence'])"
      ],
      "execution_count": 0,
      "outputs": [
        {
          "output_type": "display_data",
          "data": {
            "image/png": "[encoded data removed]",
            "text/plain": [
              "<matplotlib.figure.Figure at 0x7fc06e18f2b0>"
            ]
          },
          "metadata": {
            "tags": []
          }
        }
      ]
    },
    {
      "metadata": {
        "id": "9me2OnWdkq8k",
        "colab_type": "code",
        "colab": {
          "autoexec": {
            "startup": false,
            "wait_interval": 0
          },
          "base_uri": "https://localhost:8080/",
          "height": 517
        },
        "outputId": "4682a56a-ff78-4d15-d27c-19a18966b8c3",
        "executionInfo": {
          "status": "ok",
          "timestamp": 1525458743596,
          "user_tz": -120,
          "elapsed": 790,
          "user": {
            "displayName": "Maxence",
            "photoUrl": "//lh6.googleusercontent.com/-GLcBkiLSG94/AAAAAAAAAAI/AAAAAAAAAak/oCDxFrIwoqc/s50-c-k-no/photo.jpg",
            "userId": "118398049760002700521"
          }
        }
      },
      "cell_type": "code",
      "source": [
        "def get_cumul_word_usage(column, n_max=20, plot=True):\n",
        "  to_display = slice(None, n_max) if n_max is not None else slice(None, None)\n",
        "  used_per_word = pd.Series(' '.join(column).split()).value_counts()[::-1]\n",
        "  \n",
        "  to_plot = []\n",
        "  for current_max in range(1,n_max):\n",
        "    less_used = len(used_per_word[used_per_word <= current_max])\n",
        "    to_plot.append(less_used)\n",
        "  \n",
        "  total_words_count = len(used_per_word)\n",
        "  title='{0} words used less than {1} times (over {2})'.format(to_plot[-1], n_max, total_words_count)\n",
        "  pd.Series(to_plot).plot(title=title, figsize=(8,8), \n",
        "                                xlim =(0,n_max), xticks=range(1,n_max,int(n_max/20)+1));\n",
        "  return to_plot, total_words_count\n",
        "\n",
        "\n",
        "word_usage_cumul, word_count = get_cumul_word_usage(cleaned_df['sentence'], 20)\n",
        "\n",
        "minimum_usage = 6\n",
        "vocabulary_size = word_count - word_usage_cumul[minimum_usage]\n",
        "print('We will focus on the {0} most frequent words (used more than {1} times in the whole corpus).'.format(vocabulary_size, minimum_usage))"
      ],
      "execution_count": 0,
      "outputs": [
        {
          "output_type": "stream",
          "text": [
            "We will focus on the 466 most frequent words (used more than 6 times in the whole corpus).\n"
          ],
          "name": "stdout"
        },
        {
          "output_type": "display_data",
          "data": {
            "image/png": "[encoded data removed]",
            "text/plain": [
              "<matplotlib.figure.Figure at 0x7fc06df90cf8>"
            ]
          },
          "metadata": {
            "tags": []
          }
        }
      ]
    },
    {
      "metadata": {
        "id": "mgi2zwwF5bDY",
        "colab_type": "code",
        "colab": {
          "autoexec": {
            "startup": false,
            "wait_interval": 0
          }
        }
      },
      "cell_type": "code",
      "source": [
        "from keras.preprocessing.text import Tokenizer\n",
        "\n",
        "tokenizer = Tokenizer(num_words=vocabulary_size, split=' ')\n",
        "tokenizer.fit_on_texts(cleaned_df['sentence'].values)\n",
        "\n",
        "X = tokenizer.texts_to_sequences(cleaned_df['sentence'].values)"
      ],
      "execution_count": 0,
      "outputs": []
    },
    {
      "metadata": {
        "id": "pM71i97R6uOY",
        "colab_type": "text"
      },
      "cell_type": "markdown",
      "source": [
        "Let's look at the sentence length and set padding parameters."
      ]
    },
    {
      "metadata": {
        "id": "_36zqLmHmONo",
        "colab_type": "code",
        "colab": {
          "autoexec": {
            "startup": false,
            "wait_interval": 0
          },
          "base_uri": "https://localhost:8080/",
          "height": 362
        },
        "outputId": "0ea55ba4-a812-41c6-9265-966e9a7f77e4",
        "executionInfo": {
          "status": "ok",
          "timestamp": 1525458814524,
          "user_tz": -120,
          "elapsed": 890,
          "user": {
            "displayName": "Maxence",
            "photoUrl": "//lh6.googleusercontent.com/-GLcBkiLSG94/AAAAAAAAAAI/AAAAAAAAAak/oCDxFrIwoqc/s50-c-k-no/photo.jpg",
            "userId": "118398049760002700521"
          }
        }
      },
      "cell_type": "code",
      "source": [
        "raw_cleaned_lengths = cleaned_df.sentence.str.len()\n",
        "cleaned_lengths = raw_cleaned_lengths.value_counts().reset_index(level=0)\n",
        "cleaned_lengths.rename(columns={'index': 'count', 'sentence': 'sentence_length'}, inplace=True)\n",
        "\n",
        "plt.xlim(1,200)\n",
        "plt.bar(cleaned_lengths['count'], cleaned_lengths['sentence_length']);\n",
        "plt.title('Sentence length (number of caracters)');"
      ],
      "execution_count": 0,
      "outputs": [
        {
          "output_type": "display_data",
          "data": {
            "image/png": "[encoded data removed]",
            "text/plain": [
              "<matplotlib.figure.Figure at 0x7fc06d571e48>"
            ]
          },
          "metadata": {
            "tags": []
          }
        }
      ]
    },
    {
      "metadata": {
        "id": "a-dLtf6e9ngA",
        "colab_type": "text"
      },
      "cell_type": "markdown",
      "source": [
        "Sentences and tokens' length follow a (somewhat) Gaussian distribution.\n",
        "So if we consider that we can keep ~99% of the dataset without loss by limiting the number of tokens to `mean(u) + 3*std(u)`."
      ]
    },
    {
      "metadata": {
        "id": "vy6dwzW_6_6s",
        "colab_type": "code",
        "colab": {
          "autoexec": {
            "startup": false,
            "wait_interval": 0
          },
          "base_uri": "https://localhost:8080/",
          "height": 366
        },
        "outputId": "544d93b1-d78e-49a0-d5e5-415a217d5804",
        "executionInfo": {
          "status": "ok",
          "timestamp": 1525458817988,
          "user_tz": -120,
          "elapsed": 1720,
          "user": {
            "displayName": "Maxence",
            "photoUrl": "//lh6.googleusercontent.com/-GLcBkiLSG94/AAAAAAAAAAI/AAAAAAAAAak/oCDxFrIwoqc/s50-c-k-no/photo.jpg",
            "userId": "118398049760002700521"
          }
        }
      },
      "cell_type": "code",
      "source": [
        "number_of_tokens = np.array([len(x) for x in X])\n",
        "\n",
        "max_token_per_phrase = int(number_of_tokens.mean() + 3 * number_of_tokens.std())\n",
        "print('99% of the sentences in our dataset contain {0} tokens (max={1})'.format(max_token_per_phrase,max(number_of_tokens)))\n",
        "\n",
        "uniques = np.bincount(number_of_tokens);\n",
        "plt.xlim(1,40);\n",
        "plt.bar(range(0,len(uniques)),uniques );"
      ],
      "execution_count": 0,
      "outputs": [
        {
          "output_type": "stream",
          "text": [
            "99% of the sentences in our dataset contain 42 tokens (max=485)\n"
          ],
          "name": "stdout"
        },
        {
          "output_type": "display_data",
          "data": {
            "image/png": "[encoded data removed]",
            "text/plain": [
              "<matplotlib.figure.Figure at 0x7fc0682489b0>"
            ]
          },
          "metadata": {
            "tags": []
          }
        }
      ]
    },
    {
      "metadata": {
        "id": "gHGoYIuTuMFA",
        "colab_type": "code",
        "colab": {
          "autoexec": {
            "startup": false,
            "wait_interval": 0
          }
        }
      },
      "cell_type": "code",
      "source": [
        "from keras.preprocessing.sequence import pad_sequences\n",
        "\n",
        "X = pad_sequences(X, maxlen=max_token_per_phrase)\n",
        "y = pd.get_dummies(df['score']).values"
      ],
      "execution_count": 0,
      "outputs": []
    },
    {
      "metadata": {
        "id": "kApmuhNmELai",
        "colab_type": "code",
        "colab": {
          "autoexec": {
            "startup": false,
            "wait_interval": 0
          }
        }
      },
      "cell_type": "code",
      "source": [
        "from sklearn.model_selection import train_test_split\n",
        "X_train, X_test, y_train, y_test = train_test_split(X, y, stratify=df['score'].values, \n",
        "                                                    test_size=0.2, \n",
        "                                                    random_state=4422)\n",
        "X_train, X_val, y_train, y_val = train_test_split(X_train,y_train, \n",
        "                                                  stratify=y_train, \n",
        "                                                  test_size=0.2, \n",
        "                                                  random_state=4422)"
      ],
      "execution_count": 0,
      "outputs": []
    },
    {
      "metadata": {
        "id": "siVCy6DlK1Y-",
        "colab_type": "code",
        "colab": {
          "autoexec": {
            "startup": false,
            "wait_interval": 0
          },
          "base_uri": "https://localhost:8080/",
          "height": 36
        },
        "outputId": "43abca6d-95f5-49fd-d0fd-0fbf2b1d2a4b",
        "executionInfo": {
          "status": "ok",
          "timestamp": 1525458822002,
          "user_tz": -120,
          "elapsed": 696,
          "user": {
            "displayName": "Maxence",
            "photoUrl": "//lh6.googleusercontent.com/-GLcBkiLSG94/AAAAAAAAAAI/AAAAAAAAAak/oCDxFrIwoqc/s50-c-k-no/photo.jpg",
            "userId": "118398049760002700521"
          }
        }
      },
      "cell_type": "code",
      "source": [
        "print('[Sizes] train: {0}, validation: {1}, test: {2}'.format(len(X_train), len(X_val), len(X_test)))"
      ],
      "execution_count": 0,
      "outputs": [
        {
          "output_type": "stream",
          "text": [
            "[Sizes] train: 1758, validation: 440, test: 550\n"
          ],
          "name": "stdout"
        }
      ]
    },
    {
      "metadata": {
        "id": "l7Y60H4aBkg2",
        "colab_type": "text"
      },
      "cell_type": "markdown",
      "source": [
        "# Embedding and modeling"
      ]
    },
    {
      "metadata": {
        "id": "RSoQIHFPqIOS",
        "colab_type": "code",
        "colab": {
          "autoexec": {
            "startup": false,
            "wait_interval": 0
          }
        }
      },
      "cell_type": "code",
      "source": [
        "from keras.callbacks import History\n",
        "\n",
        "class PlotHistory(History):\n",
        "  def __init__(self, plot_validation=True, monitor=['acc'], figsize=(15,10)):\n",
        "    self.plot_validation = plot_validation\n",
        "    self.metrics = monitor\n",
        "    plt.figure(figsize=figsize)\n",
        "    \n",
        "  def on_train_end(self, logs=None):\n",
        "    for index, metric in enumerate(self.metrics):\n",
        "      ax = plt.subplot(2, 2, index + 1)\n",
        "      ax.plot(self.history[metric], label=metric)\n",
        "      if(self.plot_validation):\n",
        "        val = 'val_{0}'.format(metric)\n",
        "        ax.plot(self.history[val], label=val)\n",
        "\n",
        "      ax.legend(framealpha=0.8, fancybox=True)\n",
        "\n",
        "      min_rounded_value = round(min(self.history[metric]), 1)\n",
        "      max_sup_value =  max(self.history[metric])+0.05\n",
        "      plt.yticks(np.arange(min_rounded_value, max_sup_value, step=0.05))\n",
        "\n",
        "      max_epoch = len(self.history[metric])\n",
        "      step = int(max_epoch/15) if (max_epoch > 30) else 2\n",
        "      plt.xticks(np.arange(0, max_epoch, step=step))\n",
        "      ax.set(xlabel='Epoch')"
      ],
      "execution_count": 0,
      "outputs": []
    },
    {
      "metadata": {
        "id": "NUWUz7FHBk2w",
        "colab_type": "code",
        "colab": {
          "autoexec": {
            "startup": false,
            "wait_interval": 0
          }
        }
      },
      "cell_type": "code",
      "source": [
        "from keras.models import Sequential\n",
        "from keras.layers import Dense, Embedding, LSTM, SpatialDropout1D, Dropout, Bidirectional, Flatten\n",
        "from keras.callbacks import EarlyStopping\n",
        "from sklearn.model_selection import train_test_split\n",
        "\n",
        "def make_model(p):\n",
        "  model = Sequential()\n",
        "  model.add(Embedding(input_dim=p['vocabulary_size'], \n",
        "                      output_dim=p['dense_vector_dim'],\n",
        "                      input_length=p['max_len_sequence'],\n",
        "                      mask_zero = True))\n",
        "  \n",
        "  if p['lstm_stack_depth'] > 0:\n",
        "    model.add(SpatialDropout1D(p['embedding_spatial_dropout']))\n",
        "  \n",
        "  for i in range(p['lstm_stack_depth']):\n",
        "    return_sequence = True if (i+1) != p['lstm_stack_depth'] else False\n",
        "    \n",
        "    model.add(Bidirectional(LSTM(p['lstm_hidden_neurons'], \n",
        "                   dropout=p['lstm_dropout'], \n",
        "                   recurrent_dropout=p['lstm_rec_dropout'], \n",
        "                   return_sequences=return_sequence)))\n",
        "\n",
        "  for i in range(p['dense_layer_count']):\n",
        "    model.add(Dense(p['dense_layer_size'], activation='relu'))\n",
        "    model.add(Dropout(p['dense_layer_dropout']))\n",
        "  \n",
        "  model.add(Dense(p['window_width']));\n",
        "  model.add(Dense(2,activation='softmax'))\n",
        "  \n",
        "  model.compile(loss = 'categorical_crossentropy', optimizer='adam',metrics = ['accuracy'])\n",
        "  return model"
      ],
      "execution_count": 0,
      "outputs": []
    },
    {
      "metadata": {
        "id": "IJAiLildv6Mi",
        "colab_type": "text"
      },
      "cell_type": "markdown",
      "source": [
        "- 1 We turn each number representing a word into a dense vector\n",
        "- 2 We drop randomly some connections\n",
        "- 3 We stack an LSTM layer with a large dropout to prevent overfitting\n",
        "- 4 We finaly cover the top by some dense layers "
      ]
    },
    {
      "metadata": {
        "id": "CojZlP_6v0tu",
        "colab_type": "code",
        "colab": {
          "autoexec": {
            "startup": false,
            "wait_interval": 0
          },
          "base_uri": "https://localhost:8080/",
          "height": 518
        },
        "outputId": "498dff04-a074-427c-b521-75757f26830a",
        "executionInfo": {
          "status": "ok",
          "timestamp": 1525458829038,
          "user_tz": -120,
          "elapsed": 2376,
          "user": {
            "displayName": "Maxence",
            "photoUrl": "//lh6.googleusercontent.com/-GLcBkiLSG94/AAAAAAAAAAI/AAAAAAAAAak/oCDxFrIwoqc/s50-c-k-no/photo.jpg",
            "userId": "118398049760002700521"
          }
        }
      },
      "cell_type": "code",
      "source": [
        "params_lstm_sentiment = {\n",
        "    'embedding_spatial_dropout': 0.3, \n",
        "    'lstm_dropout': 0.45, \n",
        "    'lstm_rec_dropout': 0.35, \n",
        "    'dense_layer_dropout': 0.25, \n",
        "    'window_width': 5, \n",
        "    'lstm_hidden_neurons': 50, \n",
        "    'dense_vector_dim': 200, \n",
        "    'dense_layer_size': 70, \n",
        "    'dense_layer_count': 1, \n",
        "    'vocabulary_size': vocabulary_size,\n",
        "    'lstm_stack_depth': 2,\n",
        "    'max_len_sequence': max_token_per_phrase,\n",
        "}\n",
        "\n",
        "# Parameters found in the next section\n",
        "hyper_parameters_best = {\n",
        "    'embedding_spatial_dropout': 0.2, \n",
        "    'lstm_dropout': 0.4, \n",
        "    'lstm_rec_dropout': 0.25, \n",
        "    'dense_layer_dropout': 0.2, \n",
        "    'window_width': 11, \n",
        "    'lstm_hidden_neurons': 80, \n",
        "    'dense_vector_dim': 175, \n",
        "    'dense_layer_size': 70, \n",
        "    'dense_layer_count': 2, \n",
        "    'lstm_stack_depth': 2, \n",
        "    'vocabulary_size': vocabulary_size, \n",
        "    'max_len_sequence': max_token_per_phrase\n",
        "}\n",
        "\n",
        "model = make_model(hyper_parameters_best)\n",
        "\n",
        "model.summary()"
      ],
      "execution_count": 0,
      "outputs": [
        {
          "output_type": "stream",
          "text": [
            "_________________________________________________________________\n",
            "Layer (type)                 Output Shape              Param #   \n",
            "=================================================================\n",
            "embedding_3 (Embedding)      (None, 42, 175)           81550     \n",
            "_________________________________________________________________\n",
            "spatial_dropout1d_3 (Spatial (None, 42, 175)           0         \n",
            "_________________________________________________________________\n",
            "bidirectional_5 (Bidirection (None, 42, 160)           163840    \n",
            "_________________________________________________________________\n",
            "bidirectional_6 (Bidirection (None, 160)               154240    \n",
            "_________________________________________________________________\n",
            "dense_9 (Dense)              (None, 70)                11270     \n",
            "_________________________________________________________________\n",
            "dropout_5 (Dropout)          (None, 70)                0         \n",
            "_________________________________________________________________\n",
            "dense_10 (Dense)             (None, 70)                4970      \n",
            "_________________________________________________________________\n",
            "dropout_6 (Dropout)          (None, 70)                0         \n",
            "_________________________________________________________________\n",
            "dense_11 (Dense)             (None, 11)                781       \n",
            "_________________________________________________________________\n",
            "dense_12 (Dense)             (None, 2)                 24        \n",
            "=================================================================\n",
            "Total params: 416,675\n",
            "Trainable params: 416,675\n",
            "Non-trainable params: 0\n",
            "_________________________________________________________________\n"
          ],
          "name": "stdout"
        }
      ]
    },
    {
      "metadata": {
        "id": "qRVa4t8CEUxa",
        "colab_type": "code",
        "colab": {
          "autoexec": {
            "startup": false,
            "wait_interval": 0
          },
          "base_uri": "https://localhost:8080/",
          "height": 610
        },
        "outputId": "6d30f35f-b934-45fc-9a89-5394dc72aa35",
        "executionInfo": {
          "status": "ok",
          "timestamp": 1525458892952,
          "user_tz": -120,
          "elapsed": 63732,
          "user": {
            "displayName": "Maxence",
            "photoUrl": "//lh6.googleusercontent.com/-GLcBkiLSG94/AAAAAAAAAAI/AAAAAAAAAak/oCDxFrIwoqc/s50-c-k-no/photo.jpg",
            "userId": "118398049760002700521"
          }
        }
      },
      "cell_type": "code",
      "source": [
        "early_stopping_val = EarlyStopping(monitor='val_loss', min_delta=0.001, \n",
        "                                   patience=3, verbose=1, mode='auto')\n",
        "\n",
        "plot_history = PlotHistory(monitor=['acc', 'loss'])\n",
        "epochs=25\n",
        "batch_size = 150\n",
        "history = model.fit(X_train, y_train, epochs=epochs, \n",
        "                    batch_size=batch_size, \n",
        "                    verbose=1,\n",
        "                    callbacks=[early_stopping_val, plot_history],\n",
        "                    validation_data=(X_val, y_val))                    "
      ],
      "execution_count": 0,
      "outputs": [
        {
          "output_type": "stream",
          "text": [
            "Train on 1758 samples, validate on 440 samples\n",
            "Epoch 1/25\n",
            "1758/1758 [==============================] - 12s 7ms/step - loss: 0.6910 - acc: 0.5495 - val_loss: 0.6823 - val_acc: 0.7159\n",
            "Epoch 2/25\n",
            "1758/1758 [==============================] - 7s 4ms/step - loss: 0.6557 - acc: 0.7133 - val_loss: 0.5864 - val_acc: 0.7432\n",
            "Epoch 3/25\n",
            "1758/1758 [==============================] - 8s 4ms/step - loss: 0.5041 - acc: 0.7918 - val_loss: 0.5129 - val_acc: 0.7818\n",
            "Epoch 4/25\n",
            "1758/1758 [==============================] - 8s 4ms/step - loss: 0.3761 - acc: 0.8413 - val_loss: 0.4841 - val_acc: 0.8068\n",
            "Epoch 5/25\n",
            "1758/1758 [==============================] - 7s 4ms/step - loss: 0.3279 - acc: 0.8578 - val_loss: 0.5145 - val_acc: 0.8023\n",
            "Epoch 6/25\n",
            "1758/1758 [==============================] - 7s 4ms/step - loss: 0.3046 - acc: 0.8743 - val_loss: 0.5217 - val_acc: 0.8045\n",
            "Epoch 7/25\n",
            "1758/1758 [==============================] - 7s 4ms/step - loss: 0.2834 - acc: 0.8771 - val_loss: 0.5568 - val_acc: 0.8136\n",
            "Epoch 00007: early stopping\n"
          ],
          "name": "stdout"
        },
        {
          "output_type": "display_data",
          "data": {
            "image/png": "[encoded data removed]",
            "text/plain": [
              "<matplotlib.figure.Figure at 0x7fc09d4ae080>"
            ]
          },
          "metadata": {
            "tags": []
          }
        }
      ]
    },
    {
      "metadata": {
        "id": "jKdYOnwhN9Qc",
        "colab_type": "code",
        "colab": {
          "autoexec": {
            "startup": false,
            "wait_interval": 0
          },
          "base_uri": "https://localhost:8080/",
          "height": 54
        },
        "outputId": "30bebf2a-15fe-4528-fb28-0520965a5ece",
        "executionInfo": {
          "status": "ok",
          "timestamp": 1525458896734,
          "user_tz": -120,
          "elapsed": 3634,
          "user": {
            "displayName": "Maxence",
            "photoUrl": "//lh6.googleusercontent.com/-GLcBkiLSG94/AAAAAAAAAAI/AAAAAAAAAak/oCDxFrIwoqc/s50-c-k-no/photo.jpg",
            "userId": "118398049760002700521"
          }
        }
      },
      "cell_type": "code",
      "source": [
        "test_loss_acc = model.evaluate(X_test, y_test)\n",
        "print(\"loss: {0:.5f}, acc: {1:5f}, test size: {2}\".format(test_loss_acc[0], \n",
        "                                                          test_loss_acc[1],\n",
        "                                                          len(y_test)))"
      ],
      "execution_count": 0,
      "outputs": [
        {
          "output_type": "stream",
          "text": [
            "550/550 [==============================] - 3s 6ms/step\n",
            "loss: 0.55188, acc: 0.803636, test size: 550\n"
          ],
          "name": "stdout"
        }
      ]
    },
    {
      "metadata": {
        "id": "W_def8sy90zy",
        "colab_type": "text"
      },
      "cell_type": "markdown",
      "source": [
        "We can visualize errors, we need to spot all the errors in the training set and then rebuild them from the `Tokenizer`. The reconstruction is limited because:\n",
        "- words used less than X times aren't mapped by the `Tokenizer`\n",
        "- stop words, punctuation are deleted beforehand\n",
        "\n",
        "But it's still possible to do a partial search in the original dataset."
      ]
    },
    {
      "metadata": {
        "id": "fK16jhJt97ge",
        "colab_type": "code",
        "colab": {
          "autoexec": {
            "startup": false,
            "wait_interval": 0
          }
        }
      },
      "cell_type": "code",
      "source": [
        "test_predictions = model.predict(X_test).argmax(axis=-1)\n",
        "test_errors_index = y_test.argmax(axis=-1) != test_predictions\n",
        "test_errors_x = X_test[test_errors_index]\n",
        "test_errors_y = y_test[test_errors_index]"
      ],
      "execution_count": 0,
      "outputs": []
    },
    {
      "metadata": {
        "id": "yd5Nlj7E-MkG",
        "colab_type": "code",
        "colab": {
          "autoexec": {
            "startup": false,
            "wait_interval": 0
          },
          "base_uri": "https://localhost:8080/",
          "height": 296
        },
        "outputId": "be7710fd-7fe4-45b9-f10d-87248faeca4c",
        "executionInfo": {
          "status": "ok",
          "timestamp": 1525459037552,
          "user_tz": -120,
          "elapsed": 702,
          "user": {
            "displayName": "Maxence",
            "photoUrl": "//lh6.googleusercontent.com/-GLcBkiLSG94/AAAAAAAAAAI/AAAAAAAAAak/oCDxFrIwoqc/s50-c-k-no/photo.jpg",
            "userId": "118398049760002700521"
          }
        }
      },
      "cell_type": "code",
      "source": [
        "inv_map = {v: k for k, v in tokenizer.word_index.items()}\n",
        "\n",
        "errors = []\n",
        "for index, error in enumerate(test_errors_x):\n",
        "  errors.append([[inv_map.get(item,item) for item in error if item != 0], test_errors_y[index].argmax(axis=-1)])\n",
        "\n",
        "label = ['-', '+']\n",
        "print('Errors:')\n",
        "for e in errors[:15]:\n",
        "  if(len(e[0]) == 0): continue\n",
        "  print(\"ground truth ({1}) {0} \".format(e[0], label[e[1]]))"
      ],
      "execution_count": 0,
      "outputs": [
        {
          "output_type": "stream",
          "text": [
            "Errors:\n",
            "ground truth (+) ['predictable', 'not', 'bad', 'watch'] \n",
            "ground truth (+) ['not', 'think', 'will', 'disappointed'] \n",
            "ground truth (+) ['keep', 'good', 'work', 'amazon'] \n",
            "ground truth (-) ['made', 'case', 'small'] \n",
            "ground truth (+) ['oh', 'thing', 'restaurant'] \n",
            "ground truth (-) ['directing', 'best'] \n",
            "ground truth (+) ['not'] \n",
            "ground truth (+) ['will', 'go', 'back', 'next'] \n",
            "ground truth (+) ['used', 'work', 'place', 'really', 'half', 'price'] \n",
            "ground truth (+) ['food', 'arrived', 'quickly'] \n",
            "ground truth (-) ['just', 'writing', 'come', 'fast'] \n",
            "ground truth (+) ['however', 'made', 'film'] \n",
            "ground truth (-) ['film', 'glad', 're', 'away', 'far'] \n",
            "ground truth (+) ['just', 'good', 'year', 'ago'] \n"
          ],
          "name": "stdout"
        }
      ]
    },
    {
      "metadata": {
        "id": "jnU4cKWc8r3m",
        "colab_type": "text"
      },
      "cell_type": "markdown",
      "source": [
        "We can try to test some of our own sentences, it's clearly not perfect but there is something. \n"
      ]
    },
    {
      "metadata": {
        "id": "BYncg3WHmnNg",
        "colab_type": "code",
        "colab": {
          "autoexec": {
            "startup": false,
            "wait_interval": 0
          }
        }
      },
      "cell_type": "code",
      "source": [
        "def print_new_predictions(sentences, model, tokenizer, max_pad_len):\n",
        "  sentences = (pd.Series(sentences))\n",
        "  to_process = prepare_text_column(sentences, \n",
        "                                   stop_words=english_stop,\n",
        "                                   punctuations=punctuation,\n",
        "                                   replace_dict=replace_dict,\n",
        "                                   copy=False)\n",
        "\n",
        "  other_tests = tokenizer.texts_to_sequences(to_process)\n",
        "  other_tests = pad_sequences(other_tests, maxlen=max_pad_len)\n",
        "  inferences = model.predict_classes(other_tests)\n",
        "  label = ['-', '+']\n",
        "\n",
        "  predictions = [label[i] for i in inferences]\n",
        "  for index, pred in enumerate(predictions):\n",
        "    print('[ {1:2s}]  {0}'.format(sentences[index], pred))"
      ],
      "execution_count": 0,
      "outputs": []
    },
    {
      "metadata": {
        "id": "PtEPMO6qmKM8",
        "colab_type": "code",
        "colab": {
          "autoexec": {
            "startup": false,
            "wait_interval": 0
          },
          "base_uri": "https://localhost:8080/",
          "height": 407
        },
        "outputId": "d756c94b-9e60-4cc3-c3b1-6b413c25597c",
        "executionInfo": {
          "status": "ok",
          "timestamp": 1525459060074,
          "user_tz": -120,
          "elapsed": 674,
          "user": {
            "displayName": "Maxence",
            "photoUrl": "//lh6.googleusercontent.com/-GLcBkiLSG94/AAAAAAAAAAI/AAAAAAAAAak/oCDxFrIwoqc/s50-c-k-no/photo.jpg",
            "userId": "118398049760002700521"
          }
        }
      },
      "cell_type": "code",
      "source": [
        "new_sentences = [\"this movie was awesome\",\n",
        "              \"nice restaurant\",\n",
        "              \"terrible headphones !\",\n",
        "              \"terribly bad headphones !\",\n",
        "              \"we had a good laught at this movie\",\n",
        "              \"it's not working\",\n",
        "              \"bad\",\n",
        "              'quite bad',\n",
        "              'quite good',\n",
        "              \"excellent\",\n",
        "              \"good\",\n",
        "              \"not good\",\n",
        "              \"meh\",\n",
        "              \"must see !\",\n",
        "              \"go away from there !\",\n",
        "              \"go there !\",\n",
        "              \"This is clearly not one of his best\",\n",
        "              \"This is clearly one of his best\",\n",
        "              \"i've seen better\",\n",
        "              \"refund me\",\n",
        "              \"I charged it but it only last 5 minutes...\"]\n",
        "\n",
        "print_new_predictions(new_sentences, model, tokenizer, max_token_per_phrase)"
      ],
      "execution_count": 0,
      "outputs": [
        {
          "output_type": "stream",
          "text": [
            "[ + ]  this movie was awesome\n",
            "[ + ]  nice restaurant\n",
            "[ - ]  terrible headphones  !\n",
            "[ - ]  terribly bad headphones  !\n",
            "[ + ]  we had a good laught at this movie\n",
            "[ - ]  it's not working\n",
            "[ - ]  bad\n",
            "[ - ]  quite bad\n",
            "[ + ]  quite good\n",
            "[ + ]  excellent\n",
            "[ + ]  good\n",
            "[ - ]  not good\n",
            "[ - ]  meh\n",
            "[ + ]  must see  !\n",
            "[ - ]  go away from there  !\n",
            "[ + ]  go there  !\n",
            "[ + ]  This is clearly not one of his best\n",
            "[ + ]  This is clearly one of his best\n",
            "[ - ]  i've seen better\n",
            "[ - ]  refund me\n",
            "[ - ]  I charged it but it only last 5 minutes...\n"
          ],
          "name": "stdout"
        }
      ]
    },
    {
      "metadata": {
        "id": "dD-awbhiRa6a",
        "colab_type": "text"
      },
      "cell_type": "markdown",
      "source": [
        "# Hyperparameters optimisation\n",
        "\n",
        "Using [`GPYopt`](http://nbviewer.jupyter.org/github/SheffieldML/GPyOpt/blob/master/manual/GPyOpt_reference_manual.ipynb) we will optimise those parameters, using a bayesian optimisation method.\n",
        "\n",
        "    vocabulary_size,\n",
        "    dense_vector_dim,\n",
        "    embedding_spatial_dropout,\n",
        "    lstm_hidden_neurons,\n",
        "    lstm_dropout,\n",
        "    lstm_rec_dropout,\n",
        "    window_width,\n",
        "    dense_layer_size,\n",
        "    dense_layer_count,\n",
        "    dense_layer_dropout\n",
        "    \n",
        "    \n",
        " \n",
        "To install the `GPYopt` library you also need to install `GPY` library, both avaiable via pip: \n",
        "\n",
        "\n",
        "```\n",
        "!pip install gpy\n",
        "!pip install gpyopt\n",
        "```\n",
        "\n"
      ]
    },
    {
      "metadata": {
        "id": "wsLfMe7yRaUE",
        "colab_type": "code",
        "colab": {
          "autoexec": {
            "startup": false,
            "wait_interval": 0
          },
          "base_uri": "https://localhost:8080/",
          "height": 36
        },
        "outputId": "4d10197c-af46-4a99-c120-b79cb282b663",
        "executionInfo": {
          "status": "ok",
          "timestamp": 1525459063556,
          "user_tz": -120,
          "elapsed": 1510,
          "user": {
            "displayName": "Maxence",
            "photoUrl": "//lh6.googleusercontent.com/-GLcBkiLSG94/AAAAAAAAAAI/AAAAAAAAAak/oCDxFrIwoqc/s50-c-k-no/photo.jpg",
            "userId": "118398049760002700521"
          }
        }
      },
      "cell_type": "code",
      "source": [
        "import GPy, GPyOpt\n",
        "\n",
        "def run_model(x):\n",
        "  parameters = dict(\n",
        "      embedding_spatial_dropout= float(x[:,0]),\n",
        "      lstm_dropout=              float(x[:,1]),\n",
        "      lstm_rec_dropout=          float(x[:,2]),\n",
        "      dense_layer_dropout=       float(x[:,3]),\n",
        "      window_width=              int(x[:,4]),\n",
        "      lstm_hidden_neurons=       int(x[:,5]),\n",
        "      dense_vector_dim=          int(x[:,6]),\n",
        "      dense_layer_size=          int(x[:,7]),\n",
        "      dense_layer_count=         int(x[:,8]),\n",
        "      lstm_stack_depth=          int(x[:,9]),\n",
        "      vocabulary_size=           vocabulary_size,\n",
        "      max_len_sequence=          max_token_per_phrase\n",
        "  )\n",
        "  model = make_model(parameters)\n",
        "  \n",
        "  batch_size = 128\n",
        "  max_epochs=25\n",
        "  patience_early=4\n",
        "  verbose=0\n",
        "  early_stop = EarlyStopping(monitor='val_acc', min_delta=0.001, \n",
        "                            patience=4, verbose=verbose, mode='auto')\n",
        "  history = model.fit(X_train, y_train, epochs=max_epochs, \n",
        "                    batch_size=batch_size, \n",
        "                    verbose=verbose,\n",
        "                    callbacks=[early_stop],\n",
        "                    validation_data=(X_val, y_val))  \n",
        "  \n",
        "  number_epoch = len(history.history['val_loss'])\n",
        "  best_index = -(patience_early + 1) if (number_epoch < max_epochs and number_epoch > patience_early) else -1\n",
        "  \n",
        "  evaluation = [history.history['val_loss'][best_index], \n",
        "                history.history['val_acc'][best_index]]\n",
        "  \n",
        "  print(\"[epochs={2}] val_loss: {0:4f} \\t val_acc:{1:4f}\".format(evaluation[0], \n",
        "                                                           evaluation[1], \n",
        "                                                           number_epoch))\n",
        "  print(parameters)\n",
        "  print()\n",
        "  return evaluation[0]\n",
        "\n",
        "# reminder\n",
        "print('Vocabulary size is {0}'.format(vocabulary_size))"
      ],
      "execution_count": 0,
      "outputs": [
        {
          "output_type": "stream",
          "text": [
            "Vocabulary size is 466\n"
          ],
          "name": "stdout"
        }
      ]
    },
    {
      "metadata": {
        "id": "jTGQd-yj9QJu",
        "colab_type": "code",
        "colab": {
          "autoexec": {
            "startup": false,
            "wait_interval": 0
          },
          "base_uri": "https://localhost:8080/",
          "height": 316
        },
        "outputId": "554bbc66-6f0d-4c08-91b8-5a0a16d1864f",
        "executionInfo": {
          "status": "ok",
          "timestamp": 1525459527380,
          "user_tz": -120,
          "elapsed": 463448,
          "user": {
            "displayName": "Maxence",
            "photoUrl": "//lh6.googleusercontent.com/-GLcBkiLSG94/AAAAAAAAAAI/AAAAAAAAAak/oCDxFrIwoqc/s50-c-k-no/photo.jpg",
            "userId": "118398049760002700521"
          }
        }
      },
      "cell_type": "code",
      "source": [
        "dropout_domain = [x/100 for x in range(0, 45, 5)]\n",
        "bounds = [\n",
        "    {'name': 'embedding_spatial_dropout', 'type': 'discrete','domain': dropout_domain},\n",
        "    {'name': 'lstm_dropout',              'type': 'discrete','domain': dropout_domain},\n",
        "    {'name': 'lstm_rec_dropout',          'type': 'discrete','domain': dropout_domain},\n",
        "    {'name': 'dense_layer_dropout',       'type': 'discrete','domain': dropout_domain},\n",
        "    \n",
        "    {'name': 'window_width',              'type': 'discrete','domain': range(5, 12)},\n",
        "    {'name': 'lstm_hidden_neurons',       'type': 'discrete','domain': range(20, 150, 10)},\n",
        "    {'name': 'dense_vector_dim',          'type': 'discrete','domain': range(100, 300, 25)},\n",
        "    {'name': 'dense_layer_size',          'type': 'discrete','domain': range(50, 100, 10)},\n",
        "    {'name': 'dense_layer_count',         'type': 'categorical','domain': (1, 2)},\n",
        "    {'name': 'lstm_stack_depth',          'type': 'categorical','domain': (1, 2)},\n",
        "]\n",
        "opt_sentiment = GPyOpt.methods.BayesianOptimization(f=run_model, domain=bounds)"
      ],
      "execution_count": 0,
      "outputs": [
        {
          "output_type": "stream",
          "text": [
            "[epochs=7] val_loss: 0.472484 \t val_acc:0.797727\n",
            "{'embedding_spatial_dropout': 0.25, 'lstm_dropout': 0.25, 'lstm_rec_dropout': 0.4, 'dense_layer_dropout': 0.35, 'window_width': 7, 'lstm_hidden_neurons': 30, 'dense_vector_dim': 100, 'dense_layer_size': 80, 'dense_layer_count': 2, 'lstm_stack_depth': 2, 'vocabulary_size': 466, 'max_len_sequence': 42}\n",
            "\n",
            "[epochs=15] val_loss: 0.612697 \t val_acc:0.813636\n",
            "{'embedding_spatial_dropout': 0.4, 'lstm_dropout': 0.4, 'lstm_rec_dropout': 0.05, 'dense_layer_dropout': 0.2, 'window_width': 8, 'lstm_hidden_neurons': 140, 'dense_vector_dim': 175, 'dense_layer_size': 70, 'dense_layer_count': 1, 'lstm_stack_depth': 1, 'vocabulary_size': 466, 'max_len_sequence': 42}\n",
            "\n",
            "[epochs=11] val_loss: 0.586867 \t val_acc:0.809091\n",
            "{'embedding_spatial_dropout': 0.1, 'lstm_dropout': 0.25, 'lstm_rec_dropout': 0.15, 'dense_layer_dropout': 0.2, 'window_width': 9, 'lstm_hidden_neurons': 60, 'dense_vector_dim': 175, 'dense_layer_size': 60, 'dense_layer_count': 2, 'lstm_stack_depth': 2, 'vocabulary_size': 466, 'max_len_sequence': 42}\n",
            "\n",
            "[epochs=9] val_loss: 0.556787 \t val_acc:0.802273\n",
            "{'embedding_spatial_dropout': 0.2, 'lstm_dropout': 0.0, 'lstm_rec_dropout': 0.25, 'dense_layer_dropout': 0.4, 'window_width': 10, 'lstm_hidden_neurons': 70, 'dense_vector_dim': 250, 'dense_layer_size': 90, 'dense_layer_count': 1, 'lstm_stack_depth': 2, 'vocabulary_size': 466, 'max_len_sequence': 42}\n",
            "\n",
            "[epochs=12] val_loss: 0.621274 \t val_acc:0.802273\n",
            "{'embedding_spatial_dropout': 0.2, 'lstm_dropout': 0.15, 'lstm_rec_dropout': 0.4, 'dense_layer_dropout': 0.2, 'window_width': 5, 'lstm_hidden_neurons': 20, 'dense_vector_dim': 250, 'dense_layer_size': 50, 'dense_layer_count': 1, 'lstm_stack_depth': 2, 'vocabulary_size': 466, 'max_len_sequence': 42}\n",
            "\n"
          ],
          "name": "stdout"
        }
      ]
    },
    {
      "metadata": {
        "id": "c3KfUrxG_SrG",
        "colab_type": "text"
      },
      "cell_type": "markdown",
      "source": [
        "# Testing with different pre-processing of the corpus\n",
        "\n",
        "Let's see the difference if we don't remove stop words, nor replace any strings."
      ]
    },
    {
      "metadata": {
        "id": "mqX8yXSznK6u",
        "colab_type": "code",
        "colab": {
          "autoexec": {
            "startup": false,
            "wait_interval": 0
          },
          "base_uri": "https://localhost:8080/",
          "height": 573
        },
        "outputId": "9082c803-04d1-44bd-9995-7bbf88121b8c",
        "executionInfo": {
          "status": "ok",
          "timestamp": 1525459610916,
          "user_tz": -120,
          "elapsed": 83434,
          "user": {
            "displayName": "Maxence",
            "photoUrl": "//lh6.googleusercontent.com/-GLcBkiLSG94/AAAAAAAAAAI/AAAAAAAAAak/oCDxFrIwoqc/s50-c-k-no/photo.jpg",
            "userId": "118398049760002700521"
          }
        }
      },
      "cell_type": "code",
      "source": [
        "tokenizer = Tokenizer(num_words=vocabulary_size, split=' ')\n",
        "tokenizer.fit_on_texts(df['sentence'].values)\n",
        "\n",
        "X = tokenizer.texts_to_sequences(df['sentence'].values)\n",
        "X = pad_sequences(X, maxlen=max_token_per_phrase)\n",
        "\n",
        "y = pd.get_dummies(df['score']).values\n",
        "\n",
        "X_train, X_test, y_train, y_test = train_test_split(X, y, stratify=df['score'].values, \n",
        "                                                    test_size=0.2, \n",
        "                                                    random_state=4422)\n",
        "X_train, X_val, y_train, y_val = train_test_split(X_train,y_train, \n",
        "                                                  stratify=y_train, \n",
        "                                                  test_size=0.3, \n",
        "                                                  random_state=4422)\n",
        "\n",
        "model2 = make_model(params_lstm_sentiment)\n",
        "history2 = model2.fit(X_train, y_train, epochs=epochs, \n",
        "                    batch_size=batch_size, \n",
        "                    verbose=2,\n",
        "                    callbacks=[early_stopping_val, plot_history],\n",
        "                    validation_data=(X_val, y_val))"
      ],
      "execution_count": 0,
      "outputs": [
        {
          "output_type": "stream",
          "text": [
            "Train on 1538 samples, validate on 660 samples\n",
            "Epoch 1/25\n",
            " - 16s - loss: 0.6926 - acc: 0.5215 - val_loss: 0.6900 - val_acc: 0.6061\n",
            "Epoch 2/25\n",
            " - 7s - loss: 0.6844 - acc: 0.6196 - val_loss: 0.6732 - val_acc: 0.6106\n",
            "Epoch 3/25\n",
            " - 7s - loss: 0.6388 - acc: 0.6866 - val_loss: 0.5946 - val_acc: 0.7227\n",
            "Epoch 4/25\n",
            " - 7s - loss: 0.5130 - acc: 0.7822 - val_loss: 0.5333 - val_acc: 0.7621\n",
            "Epoch 5/25\n",
            " - 7s - loss: 0.4130 - acc: 0.8270 - val_loss: 0.4998 - val_acc: 0.7727\n",
            "Epoch 6/25\n",
            " - 7s - loss: 0.3635 - acc: 0.8459 - val_loss: 0.4948 - val_acc: 0.7742\n",
            "Epoch 7/25\n",
            " - 7s - loss: 0.3205 - acc: 0.8622 - val_loss: 0.5467 - val_acc: 0.7773\n",
            "Epoch 8/25\n",
            " - 7s - loss: 0.2938 - acc: 0.8765 - val_loss: 0.5512 - val_acc: 0.7803\n",
            "Epoch 9/25\n",
            " - 7s - loss: 0.2850 - acc: 0.8739 - val_loss: 0.5481 - val_acc: 0.7788\n",
            "Epoch 00009: early stopping\n"
          ],
          "name": "stdout"
        },
        {
          "output_type": "display_data",
          "data": {
            "image/png": "[encoded data removed]",
            "text/plain": [
              "<matplotlib.figure.Figure at 0x7fc023eaf240>"
            ]
          },
          "metadata": {
            "tags": []
          }
        }
      ]
    },
    {
      "metadata": {
        "id": "RFLY59RvZF7y",
        "colab_type": "text"
      },
      "cell_type": "markdown",
      "source": [
        "Difference of almost 3 points of accuracy between the prepared and unprepared dataset."
      ]
    }
  ]
}
